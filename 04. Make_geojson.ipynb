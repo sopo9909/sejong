{
 "cells": [
  {
   "cell_type": "code",
   "execution_count": 2,
   "metadata": {},
   "outputs": [],
   "source": [
    "import pandas as pd\n",
    "import numpy as np\n",
    "import matplotlib.pyplot as plt\n",
    "from datetime import datetime\n",
    "import seaborn as sns\n",
    "from matplotlib import pyplot\n",
    "import folium\n",
    "import json\n",
    "import os\n",
    "from mapboxgl.viz import *\n",
    "from mapboxgl.utils import create_color_stops\n",
    "import platform\n",
    "from matplotlib import font_manager, rc\n",
    "\n",
    "import warnings\n",
    "warnings.filterwarnings('ignore')\n",
    "\n",
    "plt.rcParams['axes.unicode_minus'] = False\n",
    "if platform.system() == 'Darwin':\n",
    "    rc('font', family = 'AppleGothic')\n",
    "elif platform.system() == 'Windows':\n",
    "    path ='C:/Windows/Fonts/malgun.ttf'\n",
    "    font_name = font_manager.FontProperties(fname=path).get_name()\n",
    "    rc('font', family=font_name)\n",
    "else:\n",
    "    print(\"Can't find your system.\")"
   ]
  },
  {
   "cell_type": "code",
   "execution_count": 35,
   "metadata": {},
   "outputs": [],
   "source": [
    "df = pd.read_csv('./Data/people_amt_years.csv') #03. Make_csv 생성한 people_amt_years.csv를 가져옴\n",
    "with open('./Data/32.세종시_행정경계(읍면동).geojson',mode='rt',encoding='utf-8') as f:\n",
    "    jdata = json.loads(f.read())"
   ]
  },
  {
   "cell_type": "markdown",
   "metadata": {},
   "source": [
    "### geojson 데이터 추가 작업\n",
    "* 세종시 행정경계(읍면동) geojson 데이터에 행정동별, 연도별 인구 통계 데이터를 추가해주는 함수 생성"
   ]
  },
  {
   "cell_type": "code",
   "execution_count": 37,
   "metadata": {},
   "outputs": [],
   "source": [
    "def plzgeo(year):\n",
    "    for i in range(len(jdata['features'])):\n",
    "        for j in range(len(df['index'].unique())):\n",
    "            if jdata['features'][i]['properties']['ADM_DR_NM']==df['index'][j]:\n",
    "    #             print(jdata['features'][i]['properties']['ADM_DR_NM'])\n",
    "    #             jdata['features'][i]['properties']['data'] = dict()\n",
    "    #             jdata['features'][i]['properties']['data']['year'] = 2017\n",
    "                   jdata['features'][i]['properties']['people'] = df[year][j]\n",
    "    return jdata"
   ]
  },
  {
   "cell_type": "markdown",
   "metadata": {},
   "source": [
    "* 2017년부터 2020년까지 각각 데이터를 추가하여 새로운 geojson파일로 저장"
   ]
  },
  {
   "cell_type": "code",
   "execution_count": 38,
   "metadata": {},
   "outputs": [],
   "source": [
    "for i in range(2017,2021):\n",
    "    plzgeo(f'{i}년')\n",
    "    with open(f'./Data/test{i}.geojson', 'w', encoding='utf-8') as make_file:\n",
    "        json.dump(jdata, make_file, indent=\"\\t\")\n",
    "        f.close()"
   ]
  },
  {
   "cell_type": "code",
   "execution_count": null,
   "metadata": {},
   "outputs": [],
   "source": []
  }
 ],
 "metadata": {
  "kernelspec": {
   "display_name": "Python 3",
   "language": "python",
   "name": "python3"
  },
  "language_info": {
   "codemirror_mode": {
    "name": "ipython",
    "version": 3
   },
   "file_extension": ".py",
   "mimetype": "text/x-python",
   "name": "python",
   "nbconvert_exporter": "python",
   "pygments_lexer": "ipython3",
   "version": "3.8.5"
  }
 },
 "nbformat": 4,
 "nbformat_minor": 4
}
