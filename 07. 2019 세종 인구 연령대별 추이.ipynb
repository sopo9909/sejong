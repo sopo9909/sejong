{
 "cells": [
  {
   "cell_type": "code",
   "execution_count": 13,
   "metadata": {},
   "outputs": [],
   "source": [
    "import pandas as pd\n",
    "import numpy as np\n",
    "import matplotlib.pyplot as plt\n",
    "from datetime import datetime\n",
    "import seaborn as sns\n",
    "from matplotlib import pyplot\n",
    "import platform\n",
    "from matplotlib import font_manager, rc\n",
    "import csv\n",
    "\n",
    "import warnings\n",
    "warnings.filterwarnings('ignore')"
   ]
  },
  {
   "cell_type": "code",
   "execution_count": 14,
   "metadata": {},
   "outputs": [],
   "source": [
    "plt.rcParams['axes.unicode_minus'] = False\n",
    "if platform.system() == 'Darwin':\n",
    "    rc('font', family = 'AppleGothic')\n",
    "elif platform.system() == 'Windows':\n",
    "    path ='C:/Windows/Fonts/malgun.ttf'\n",
    "    font_name = font_manager.FontProperties(fname=path).get_name()\n",
    "    rc('font', family=font_name)\n",
    "else:\n",
    "    print(\"Can't find your system.\")"
   ]
  },
  {
   "cell_type": "code",
   "execution_count": 15,
   "metadata": {},
   "outputs": [],
   "source": [
    "df = pd.read_csv('./Data/22.세종시_연령별_인구현황.csv', index_col='읍면동') \n",
    "# df.head()"
   ]
  },
  {
   "cell_type": "markdown",
   "metadata": {},
   "source": [
    "### 데이터 전처리\n",
    "* 2019년을 분석하기 위해 2019년 데이터를 분리하여 세종특별자치시의 연령별 데이터로 바꾸는 전처리 진행"
   ]
  },
  {
   "cell_type": "code",
   "execution_count": 16,
   "metadata": {},
   "outputs": [],
   "source": [
    "df = df.transpose()"
   ]
  },
  {
   "cell_type": "code",
   "execution_count": 17,
   "metadata": {},
   "outputs": [],
   "source": [
    "df_2019 = df[624:936]\n",
    "# 성별별 총 거주자수로 분리"
   ]
  },
  {
   "cell_type": "code",
   "execution_count": 18,
   "metadata": {},
   "outputs": [],
   "source": [
    "df_2019.reset_index(inplace=True)"
   ]
  },
  {
   "cell_type": "code",
   "execution_count": 19,
   "metadata": {},
   "outputs": [],
   "source": [
    "df_2019.columns = ['month','세종특별자치시', '조치원읍', '연기면', '연동면', '부강면', '금남면', '장군면', '연서면', '전의면',\n",
    "       '전동면', '소정면', '한솔동', '새롬동', '도담동', '아름동', '종촌동', '고운동', '소담동', '보람동',\n",
    "       '대평동', '다정동']"
   ]
  },
  {
   "cell_type": "code",
   "execution_count": 20,
   "metadata": {},
   "outputs": [],
   "source": [
    "df_2019_m = pd.DataFrame()\n",
    "df_2019_w = pd.DataFrame()\n",
    "\n",
    "for i in range(0,12):\n",
    "    df_2019_m = pd.concat([df_2019_m, df_2019.loc[i*26 : i*26+12]],axis=0)\n",
    "    df_2019_w = pd.concat([df_2019_w, df_2019.loc[i*26+13 : i*26+25]],axis=0)\n",
    "    df_2019_m = df_2019_m.drop(df_2019_m.index[i*11 : i*11+2]).reset_index(drop=True)\n",
    "    df_2019_w = df_2019_w.drop(df_2019_w.index[i*11 : i*11+2]).reset_index(drop=True)"
   ]
  },
  {
   "cell_type": "code",
   "execution_count": 21,
   "metadata": {},
   "outputs": [],
   "source": [
    "df_2019_m_y = pd.DataFrame()\n",
    "df_2019_w_y = pd.DataFrame()\n",
    "temp1 = pd.DataFrame()\n",
    "temp2 = pd.DataFrame()\n",
    "\n",
    "for i in range(0,11):\n",
    "    for j in range(0,12):\n",
    "        temp1 = pd.concat([temp1,df_2019_m.loc[[j*11+i]]],axis=0)\n",
    "        temp2 = pd.concat([temp2,df_2019_w.loc[[j*11+i]]],axis=0)\n",
    "        \n",
    "    df_2019_m_y = pd.concat([df_2019_m_y,pd.DataFrame(temp1[i*12:i*12+12].mean()).transpose()],axis=0)    \n",
    "    df_2019_w_y = pd.concat([df_2019_w_y,pd.DataFrame(temp2[i*12:i*12+12].mean()).transpose()],axis=0)    \n",
    "    \n",
    "df_2019_m_y.index = list(range(0,110,10))\n",
    "df_2019_w_y.index = list(range(0,110,10))"
   ]
  },
  {
   "cell_type": "code",
   "execution_count": 22,
   "metadata": {},
   "outputs": [],
   "source": [
    "df1 = pd.DataFrame(df_2019_m_y['세종특별자치시'] + df_2019_w_y['세종특별자치시'])\n",
    "df1['연령별'] = ['0~9세','10~19세','20~29세','30~39세','40~49세','50~59세',\n",
    "       '60~69세','70~79세','80~89세','90~99세','100세 이상']"
   ]
  },
  {
   "cell_type": "code",
   "execution_count": 23,
   "metadata": {},
   "outputs": [
    {
     "data": {
      "text/html": [
       "<div>\n",
       "<style scoped>\n",
       "    .dataframe tbody tr th:only-of-type {\n",
       "        vertical-align: middle;\n",
       "    }\n",
       "\n",
       "    .dataframe tbody tr th {\n",
       "        vertical-align: top;\n",
       "    }\n",
       "\n",
       "    .dataframe thead th {\n",
       "        text-align: right;\n",
       "    }\n",
       "</style>\n",
       "<table border=\"1\" class=\"dataframe\">\n",
       "  <thead>\n",
       "    <tr style=\"text-align: right;\">\n",
       "      <th></th>\n",
       "      <th>세종특별자치시</th>\n",
       "      <th>연령별</th>\n",
       "      <th>sejong</th>\n",
       "    </tr>\n",
       "  </thead>\n",
       "  <tbody>\n",
       "    <tr>\n",
       "      <th>0</th>\n",
       "      <td>46066.583333</td>\n",
       "      <td>0~9세</td>\n",
       "      <td>46066</td>\n",
       "    </tr>\n",
       "    <tr>\n",
       "      <th>10</th>\n",
       "      <td>38606.750000</td>\n",
       "      <td>10~19세</td>\n",
       "      <td>38606</td>\n",
       "    </tr>\n",
       "    <tr>\n",
       "      <th>20</th>\n",
       "      <td>35197.333333</td>\n",
       "      <td>20~29세</td>\n",
       "      <td>35197</td>\n",
       "    </tr>\n",
       "    <tr>\n",
       "      <th>30</th>\n",
       "      <td>60054.083333</td>\n",
       "      <td>30~39세</td>\n",
       "      <td>60054</td>\n",
       "    </tr>\n",
       "    <tr>\n",
       "      <th>40</th>\n",
       "      <td>61491.750000</td>\n",
       "      <td>40~49세</td>\n",
       "      <td>61491</td>\n",
       "    </tr>\n",
       "    <tr>\n",
       "      <th>50</th>\n",
       "      <td>40503.250000</td>\n",
       "      <td>50~59세</td>\n",
       "      <td>40503</td>\n",
       "    </tr>\n",
       "    <tr>\n",
       "      <th>60</th>\n",
       "      <td>25674.333333</td>\n",
       "      <td>60~69세</td>\n",
       "      <td>25674</td>\n",
       "    </tr>\n",
       "    <tr>\n",
       "      <th>70</th>\n",
       "      <td>12948.916667</td>\n",
       "      <td>70~79세</td>\n",
       "      <td>12948</td>\n",
       "    </tr>\n",
       "    <tr>\n",
       "      <th>80</th>\n",
       "      <td>6461.833333</td>\n",
       "      <td>80~89세</td>\n",
       "      <td>6461</td>\n",
       "    </tr>\n",
       "    <tr>\n",
       "      <th>90</th>\n",
       "      <td>972.333333</td>\n",
       "      <td>90~99세</td>\n",
       "      <td>972</td>\n",
       "    </tr>\n",
       "    <tr>\n",
       "      <th>100</th>\n",
       "      <td>29.333333</td>\n",
       "      <td>100세 이상</td>\n",
       "      <td>29</td>\n",
       "    </tr>\n",
       "  </tbody>\n",
       "</table>\n",
       "</div>"
      ],
      "text/plain": [
       "          세종특별자치시      연령별  sejong\n",
       "0    46066.583333     0~9세   46066\n",
       "10   38606.750000   10~19세   38606\n",
       "20   35197.333333   20~29세   35197\n",
       "30   60054.083333   30~39세   60054\n",
       "40   61491.750000   40~49세   61491\n",
       "50   40503.250000   50~59세   40503\n",
       "60   25674.333333   60~69세   25674\n",
       "70   12948.916667   70~79세   12948\n",
       "80    6461.833333   80~89세    6461\n",
       "90     972.333333   90~99세     972\n",
       "100     29.333333  100세 이상      29"
      ]
     },
     "execution_count": 23,
     "metadata": {},
     "output_type": "execute_result"
    }
   ],
   "source": [
    "df1 = df1.convert_dtypes()\n",
    "df1['sejong'] = df1['세종특별자치시'].astype(int)\n",
    "df1"
   ]
  },
  {
   "cell_type": "markdown",
   "metadata": {},
   "source": [
    "### 데이터 파이차트 시각화\n",
    "* 데이터의 연령분포를 파악하기 위한 파이차트로 시각화"
   ]
  },
  {
   "cell_type": "code",
   "execution_count": 27,
   "metadata": {},
   "outputs": [
    {
     "data": {
      "image/png": "[encoded data removed]",
      "text/plain": [
       "<Figure size 504x504 with 1 Axes>"
      ]
     },
     "metadata": {},
     "output_type": "display_data"
    }
   ],
   "source": [
    "labels = df1['연령별'] ## 라벨\n",
    "frequency = df1['sejong']#df1['세종특별자치시'].astype(int) #df1['pct'] ## 빈도\n",
    "colors = sns.color_palette('Greens_r',len(labels))\n",
    "fig = plt.figure(figsize=(7,7))\n",
    "fig.set_facecolor('white')\n",
    "ax = fig.add_subplot()\n",
    "pie = ax.pie(frequency, \n",
    "             startangle=90, \n",
    "             counterclock=False,\n",
    "             colors=colors) #, autopct='%1.1f%%'\n",
    "total = sum(frequency) ## 빈도수 합\n",
    "threshold = 3 ## 상한선 비율\n",
    "sum_pct = 0 ## 퍼센티지\n",
    "bbox_props = dict(boxstyle='square',fc='w',ec='w',alpha=0) ## annotation 박스 스타일\n",
    "## annotation 설정\n",
    "config = dict(arrowprops=dict(arrowstyle='-'),bbox=bbox_props,va='center')\n",
    "for i,l in enumerate(labels):\n",
    "    ang1, ang2 = ax.patches[i].theta1, ax.patches[i].theta2 ## 파이의 시작 각도와 끝 각도\n",
    "    center, r = ax.patches[i].center, ax.patches[i].r ## 원의 중심 좌표와 반지름길이\n",
    "    if i < len(labels) - 1:\n",
    "        sum_pct += (frequency.iloc[i]/total*100).round(2)\n",
    "        text = f'{(frequency.iloc[i]/total*100).round(2)}%'\n",
    "    else: ## 마지막 파이 조각은 퍼센티지의 합이 100이 되도록 비율을 조절\n",
    "        text = f'{100-sum_pct:.2f}%'\n",
    "    ## 비율 상한선보다 작은 것들은 Annotation으로 만든다.\n",
    "    if frequency.iloc[i]/total*100 < threshold and i < len(labels) - 3:\n",
    "        ang = (ang1+ang2)/2 ## 중심각\n",
    "        x = np.cos(np.deg2rad(ang)) ## Annotation의 끝점에 해당하는 x좌표\n",
    "        y = np.sin(np.deg2rad(ang)) ## Annotation의 끝점에 해당하는 y좌표\n",
    "        ## x좌표가 양수이면 즉 y축을 중심으로 오른쪽에 있으면 왼쪽 정렬\n",
    "        ## x좌표가 음수이면 즉 y축을 중심으로 왼쪽에 있으면 오른쪽 정렬\n",
    "        horizontalalignment = {-1: \"right\", 1: \"left\"}[int(np.sign(x))]\n",
    "        connectionstyle = \"angle,angleA=0,angleB={}\".format(ang) ## 시작점과 끝점 연결 스타일\n",
    "        config[\"arrowprops\"].update({\"connectionstyle\": connectionstyle}) ## \n",
    "        ax.annotate(text, xy=(x, y), xytext=(1.5*x, 1.2*y),\n",
    "                    horizontalalignment=horizontalalignment, **config,fontsize=15)\n",
    "    elif frequency.iloc[i]/total*100 < threshold and i == len(labels) - 3:#마지막\n",
    "        ang = (ang1+ang2)/2 ## 중심각\n",
    "        x = np.cos(np.deg2rad(ang)) ## Annotation의 끝점에 해당하는 x좌표\n",
    "        y = np.sin(np.deg2rad(ang)) ## Annotation의 끝점에 해당하는 y좌표\n",
    "        ## x좌표가 양수이면 즉 y축을 중심으로 오른쪽에 있으면 왼쪽 정렬\n",
    "        ## x좌표가 음수이면 즉 y축을 중심으로 왼쪽에 있으면 오른쪽 정렬\n",
    "        horizontalalignment = {-1: \"right\", 1: \"left\"}[int(np.sign(x))]\n",
    "        connectionstyle = \"angle,angleA=0,angleB={}\".format(ang) ## 시작점과 끝점 연결 스타일\n",
    "        config[\"arrowprops\"].update({\"connectionstyle\": connectionstyle}) ## \n",
    "        ax.annotate(text, xy=(x, y), xytext=(1.5*x-0.3, 1.2*y-0.1),\n",
    "                    horizontalalignment=horizontalalignment, **config,fontsize=15)\n",
    "    elif frequency.iloc[i]/total*100 < threshold and i == len(labels) - 2:#마지막\n",
    "        ang = (ang1+ang2)/2 ## 중심각\n",
    "        x = np.cos(np.deg2rad(ang)) ## Annotation의 끝점에 해당하는 x좌표\n",
    "        y = np.sin(np.deg2rad(ang)) ## Annotation의 끝점에 해당하는 y좌표\n",
    "        ## x좌표가 양수이면 즉 y축을 중심으로 오른쪽에 있으면 왼쪽 정렬\n",
    "        ## x좌표가 음수이면 즉 y축을 중심으로 왼쪽에 있으면 오른쪽 정렬\n",
    "        horizontalalignment = {-1: \"right\", 1: \"left\"}[int(np.sign(x))]\n",
    "        connectionstyle = \"angle,angleA=0,angleB={}\".format(ang) ## 시작점과 끝점 연결 스타일\n",
    "        config[\"arrowprops\"].update({\"connectionstyle\": connectionstyle}) ## \n",
    "        ax.annotate(text, xy=(x, y), xytext=(1.5*x-0.1, 1.2*y),\n",
    "                    horizontalalignment=horizontalalignment, **config,fontsize=15) \n",
    "    elif frequency.iloc[i]/total*100 < threshold and i == len(labels) - 1:#마지막\n",
    "        ang = (ang1+ang2)/2 ## 중심각\n",
    "        x = np.cos(np.deg2rad(ang)) ## Annotation의 끝점에 해당하는 x좌표\n",
    "        y = np.sin(np.deg2rad(ang)) ## Annotation의 끝점에 해당하는 y좌표\n",
    "        ## x좌표가 양수이면 즉 y축을 중심으로 오른쪽에 있으면 왼쪽 정렬\n",
    "        ## x좌표가 음수이면 즉 y축을 중심으로 왼쪽에 있으면 오른쪽 정렬\n",
    "        horizontalalignment = {-1: \"right\", 1: \"left\"}[int(np.sign(x))]\n",
    "        connectionstyle = \"angle,angleA=0,angleB={}\".format(ang) ## 시작점과 끝점 연결 스타일\n",
    "        config[\"arrowprops\"].update({\"connectionstyle\": connectionstyle}) ## \n",
    "        ax.annotate(text, xy=(x, y), xytext=(1.5*x+0.5, 1.2*y-0.1),\n",
    "                    horizontalalignment=horizontalalignment, **config,fontsize=15) \n",
    "    else:\n",
    "        x = (r/2)*np.cos(np.pi/180*((ang1+ang2)/2)) + center[0] ## 텍스트 x좌표\n",
    "        y = (r/2)*np.sin(np.pi/180*((ang1+ang2)/2)) + center[1] ## 텍스트 y좌표\n",
    "        ax.text(x,y,text,ha='center',va='center',fontsize=15)\n",
    "plt.legend(labels,bbox_to_anchor=(1, 0.9))\n",
    "plt.title('2019년 세종특별자치시 인구 연령대별 추이',fontsize=20)\n",
    "plt.show()"
   ]
  },
  {
   "cell_type": "code",
   "execution_count": null,
   "metadata": {},
   "outputs": [],
   "source": []
  }
 ],
 "metadata": {
  "kernelspec": {
   "display_name": "Python 3",
   "language": "python",
   "name": "python3"
  },
  "language_info": {
   "codemirror_mode": {
    "name": "ipython",
    "version": 3
   },
   "file_extension": ".py",
   "mimetype": "text/x-python",
   "name": "python",
   "nbconvert_exporter": "python",
   "pygments_lexer": "ipython3",
   "version": "3.8.5"
  }
 },
 "nbformat": 4,
 "nbformat_minor": 4
}
