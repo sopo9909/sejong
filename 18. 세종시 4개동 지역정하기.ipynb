{
 "cells": [
  {
   "cell_type": "markdown",
   "metadata": {},
   "source": [
    "### 세종시 4개동 지역 정하기"
   ]
  },
  {
   "cell_type": "code",
   "execution_count": 3,
   "metadata": {
    "ExecuteTime": {
     "end_time": "2021-03-24T09:03:08.207375Z",
     "start_time": "2021-03-24T09:03:06.192406Z"
    }
   },
   "outputs": [],
   "source": [
    "import pandas as pd\n",
    "import numpy as np\n",
    "import matplotlib.pyplot as plt\n",
    "import platform\n",
    "import platform\n",
    "from matplotlib import font_manager, rc\n",
    "import matplotlib.pyplot as plt\n",
    "from sklearn.preprocessing import LabelEncoder\n",
    "import seaborn as sns\n",
    "##그래프의 결과를 출력 세션에 나타나게 하자\n",
    "%matplotlib inline \n",
    "plt.rcParams['axes.unicode_minus'] = False\n",
    "if platform.system() == 'Darwin':\n",
    "    rc('font', family = 'AppleGothic')\n",
    "elif platform.system() == 'Windows':\n",
    "    path ='C:/Windows/Fonts/malgun.ttf'\n",
    "    font_name = font_manager.FontProperties(fname=path).get_name()\n",
    "    rc('font', family=font_name)\n",
    "else:\n",
    "    print(\"Can't find your system.\")"
   ]
  },
  {
   "cell_type": "code",
   "execution_count": 4,
   "metadata": {
    "ExecuteTime": {
     "end_time": "2021-03-24T09:03:08.302628Z",
     "start_time": "2021-03-24T09:03:08.241285Z"
    }
   },
   "outputs": [],
   "source": [
    "data = pd.read_csv('./Data/3.세종시_아파트(매매)_실거래가.csv')"
   ]
  },
  {
   "cell_type": "code",
   "execution_count": 5,
   "metadata": {
    "ExecuteTime": {
     "end_time": "2021-03-24T09:03:08.365459Z",
     "start_time": "2021-03-24T09:03:08.351498Z"
    }
   },
   "outputs": [],
   "source": [
    "#읍면동 구분하는 함수\n",
    "def sort_dong(df):\n",
    "    a=df.split(\" \")\n",
    "    if a[1][-1]=='동':\n",
    "        return '동'\n",
    "    elif a[1][-1]=='면':\n",
    "        return '면'\n",
    "    else :\n",
    "        return '읍'\n",
    "#동 구분하는 함수\n",
    "def sort_dong2(df):\n",
    "    a=df.split(\" \")\n",
    "    return a[1]\n",
    "#평수 분해\n",
    "def pyeong(df):\n",
    "    if df< 33:\n",
    "        return '10평 미만'\n",
    "    elif df>= 33 and df < 66:\n",
    "        return '10~20평'\n",
    "    elif df>= 66 and df < 99:\n",
    "        return '20~30평'\n",
    "    elif df>= 99 and df < 132:\n",
    "        return '30~40평'\n",
    "    elif df>= 132 and df < 165:\n",
    "        return '40~50평'\n",
    "    elif df>= 165 and df < 198:\n",
    "        return '50~60평'\n",
    "    else:\n",
    "        return '60평 이상'\n",
    "def pyeong2(df):\n",
    "    return int(df/3.3)\n",
    "def riri(df):\n",
    "    return int(float(df.replace(',','')))"
   ]
  },
  {
   "cell_type": "code",
   "execution_count": 6,
   "metadata": {
    "ExecuteTime": {
     "end_time": "2021-03-24T09:03:08.539018Z",
     "start_time": "2021-03-24T09:03:08.429798Z"
    }
   },
   "outputs": [],
   "source": [
    "data['읍면동구분']=data['시군구'].apply(sort_dong)\n",
    "data['읍면동']=data['시군구'].apply(sort_dong2)\n",
    "data[\"평\"]=data[\"전용면적(㎡)\"].apply(pyeong)\n",
    "data['거래금액(만원)']=data['거래금액(만원)'].apply(riri)\n",
    "data['평평']=data['전용면적(㎡)'].apply(pyeong2)\n",
    "data['평당 가격(만원)']=data['거래금액(만원)']/data['평평']"
   ]
  },
  {
   "cell_type": "markdown",
   "metadata": {},
   "source": [
    "#### 상위 4개동을 선정하기 위해 거래액 +  거래수를 비율로 표현"
   ]
  },
  {
   "cell_type": "code",
   "execution_count": 7,
   "metadata": {
    "ExecuteTime": {
     "end_time": "2021-03-24T09:03:08.648725Z",
     "start_time": "2021-03-24T09:03:08.603846Z"
    }
   },
   "outputs": [],
   "source": [
    "before_tranction=data.groupby('읍면동').count()\n",
    "before_price=data.groupby('읍면동').mean()\n",
    "tranction=before_tranction['계약년월']\n",
    "price=before_price['평당 가격(만원)']\n",
    "a=tranction/(max(tranction))\n",
    "b=price/(max(price))"
   ]
  },
  {
   "cell_type": "code",
   "execution_count": 8,
   "metadata": {
    "ExecuteTime": {
     "end_time": "2021-03-24T09:03:08.759430Z",
     "start_time": "2021-03-24T09:03:08.745467Z"
    }
   },
   "outputs": [],
   "source": [
    "ab=a+b\n",
    "top4=ab.sort_values(ascending=False)[:5]"
   ]
  },
  {
   "cell_type": "markdown",
   "metadata": {},
   "source": [
    "#### 상위 4개 동 거래 파악"
   ]
  },
  {
   "cell_type": "code",
   "execution_count": 9,
   "metadata": {
    "ExecuteTime": {
     "end_time": "2021-03-24T09:05:28.815155Z",
     "start_time": "2021-03-24T09:05:28.804186Z"
    }
   },
   "outputs": [
    {
     "data": {
      "text/html": [
       "<div>\n",
       "<style scoped>\n",
       "    .dataframe tbody tr th:only-of-type {\n",
       "        vertical-align: middle;\n",
       "    }\n",
       "\n",
       "    .dataframe tbody tr th {\n",
       "        vertical-align: top;\n",
       "    }\n",
       "\n",
       "    .dataframe thead th {\n",
       "        text-align: right;\n",
       "    }\n",
       "</style>\n",
       "<table border=\"1\" class=\"dataframe\">\n",
       "  <thead>\n",
       "    <tr style=\"text-align: right;\">\n",
       "      <th></th>\n",
       "      <th>0</th>\n",
       "    </tr>\n",
       "    <tr>\n",
       "      <th>읍면동</th>\n",
       "      <th></th>\n",
       "    </tr>\n",
       "  </thead>\n",
       "  <tbody>\n",
       "    <tr>\n",
       "      <th>종촌동</th>\n",
       "      <td>1.308266</td>\n",
       "    </tr>\n",
       "    <tr>\n",
       "      <th>도담동</th>\n",
       "      <td>1.292365</td>\n",
       "    </tr>\n",
       "    <tr>\n",
       "      <th>고운동</th>\n",
       "      <td>1.244757</td>\n",
       "    </tr>\n",
       "    <tr>\n",
       "      <th>조치원읍</th>\n",
       "      <td>1.237905</td>\n",
       "    </tr>\n",
       "    <tr>\n",
       "      <th>새롬동</th>\n",
       "      <td>1.177320</td>\n",
       "    </tr>\n",
       "  </tbody>\n",
       "</table>\n",
       "</div>"
      ],
      "text/plain": [
       "             0\n",
       "읍면동           \n",
       "종촌동   1.308266\n",
       "도담동   1.292365\n",
       "고운동   1.244757\n",
       "조치원읍  1.237905\n",
       "새롬동   1.177320"
      ]
     },
     "execution_count": 9,
     "metadata": {},
     "output_type": "execute_result"
    }
   ],
   "source": [
    "pd.DataFrame(top4)"
   ]
  },
  {
   "cell_type": "code",
   "execution_count": null,
   "metadata": {},
   "outputs": [],
   "source": []
  }
 ],
 "metadata": {
  "kernelspec": {
   "display_name": "Python 3",
   "language": "python",
   "name": "python3"
  },
  "language_info": {
   "codemirror_mode": {
    "name": "ipython",
    "version": 3
   },
   "file_extension": ".py",
   "mimetype": "text/x-python",
   "name": "python",
   "nbconvert_exporter": "python",
   "pygments_lexer": "ipython3",
   "version": "3.8.5"
  },
  "toc": {
   "base_numbering": 1,
   "nav_menu": {},
   "number_sections": true,
   "sideBar": true,
   "skip_h1_title": false,
   "title_cell": "Table of Contents",
   "title_sidebar": "Contents",
   "toc_cell": false,
   "toc_position": {},
   "toc_section_display": true,
   "toc_window_display": false
  },
  "varInspector": {
   "cols": {
    "lenName": 16,
    "lenType": 16,
    "lenVar": 40
   },
   "kernels_config": {
    "python": {
     "delete_cmd_postfix": "",
     "delete_cmd_prefix": "del ",
     "library": "var_list.py",
     "varRefreshCmd": "print(var_dic_list())"
    },
    "r": {
     "delete_cmd_postfix": ") ",
     "delete_cmd_prefix": "rm(",
     "library": "var_list.r",
     "varRefreshCmd": "cat(var_dic_list()) "
    }
   },
   "types_to_exclude": [
    "module",
    "function",
    "builtin_function_or_method",
    "instance",
    "_Feature"
   ],
   "window_display": false
  }
 },
 "nbformat": 4,
 "nbformat_minor": 4
}
