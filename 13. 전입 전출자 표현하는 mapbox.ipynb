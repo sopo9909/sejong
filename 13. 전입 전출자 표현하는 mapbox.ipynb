{
 "cells": [
  {
   "cell_type": "code",
   "execution_count": 1,
   "metadata": {
    "ExecuteTime": {
     "end_time": "2021-03-24T10:24:32.300216Z",
     "start_time": "2021-03-24T10:24:31.828395Z"
    }
   },
   "outputs": [],
   "source": [
    "import pydeck as pdk\n",
    "import pandas as pd"
   ]
  },
  {
   "cell_type": "markdown",
   "metadata": {},
   "source": [
    "### 전입 전출자 Mapbox Arc 모양으로 표현"
   ]
  },
  {
   "cell_type": "code",
   "execution_count": 2,
   "metadata": {
    "ExecuteTime": {
     "end_time": "2021-03-24T10:24:32.341135Z",
     "start_time": "2021-03-24T10:24:32.328171Z"
    }
   },
   "outputs": [],
   "source": [
    "def sido(df):\n",
    "    return df.split(' ')[0]"
   ]
  },
  {
   "cell_type": "code",
   "execution_count": 3,
   "metadata": {
    "ExecuteTime": {
     "end_time": "2021-03-24T10:24:32.386782Z",
     "start_time": "2021-03-24T10:24:32.373817Z"
    }
   },
   "outputs": [],
   "source": [
    "geongkibuk=[\"김포시\",\"고양시\",\"양주시\",\"의정부시\",\"파주시\",\"연천군\",\"동두천시\",\"포천시\",\"구리시\",\"의정부시\",\"남양주시\",\"가평군\",\"양평군\"]\n",
    "geongkinam=[\"하남시\",'광주시',\"여주시\",\"이천시\",\"성남시\",\"용인시\",\"안성시\",\"평택시\",\"오산시\",\"수원시\",\"의왕시\",\"과천시\",\"군포시\",\"안양시\",\"광명시\",\"부천시\",\"시흥시\",\"안산시\",\"화성시\",\"평택시\"]"
   ]
  },
  {
   "cell_type": "markdown",
   "metadata": {},
   "source": [
    "#### 각 시도별 위도, 경도 표현"
   ]
  },
  {
   "cell_type": "code",
   "execution_count": 4,
   "metadata": {
    "ExecuteTime": {
     "end_time": "2021-03-24T10:24:32.750808Z",
     "start_time": "2021-03-24T10:24:32.739839Z"
    }
   },
   "outputs": [],
   "source": [
    "lat=[37.89081,37.27703,37.73458,35.23830,36.57854,35.15441,35.83421,36.34026,35.16788,37.55626,35.54421,37.45603,34.99069,35.82812,33.49802,36.66962,36.62539]\n",
    "lot=[127.73846,127.00787,127.068296,128.69239,128.77940,126.84307,128.56243,127.39788,129.04583,126.99139,129.24908,126.70575,126.47796,127.11366,126.53174,126.78211,127.50361]"
   ]
  },
  {
   "cell_type": "markdown",
   "metadata": {},
   "source": [
    "#### 각 시도별 세종시 전입자 수 및 경로 그래프"
   ]
  },
  {
   "cell_type": "code",
   "execution_count": 5,
   "metadata": {
    "ExecuteTime": {
     "end_time": "2021-03-24T10:24:34.955339Z",
     "start_time": "2021-03-24T10:24:34.794508Z"
    }
   },
   "outputs": [],
   "source": [
    "data_arc=pd.read_csv('./Data/20.세종시_전입자수.csv')\n",
    "data_arc2=data_arc.drop(['년월','세종전입행정동','전출읍면동'],axis=1)\n",
    "data_arc2['시찾기']=data_arc2['전출시군구'].apply(sido)\n",
    "idx_not=data_arc2[data_arc2['시찾기']=='세종특별자치시'].index\n",
    "data_arc3=data_arc2.drop(idx_not)\n",
    "data_arc3=data_arc3.reset_index(drop=True)"
   ]
  },
  {
   "cell_type": "code",
   "execution_count": 6,
   "metadata": {
    "ExecuteTime": {
     "end_time": "2021-03-24T10:24:36.594702Z",
     "start_time": "2021-03-24T10:24:35.008542Z"
    }
   },
   "outputs": [],
   "source": [
    "rororo=[]\n",
    "for i in range(len(data_arc3)):\n",
    "    if data_arc3['시찾기'][i] in geongkibuk:\n",
    "        rororo.append('경기북부')\n",
    "    elif data_arc3['시찾기'][i] in geongkinam:\n",
    "        rororo.append('경기남부')\n",
    "    else:\n",
    "        rororo.append(data_arc3['전출시'][i])\n",
    "data_arc3['시도발견']=rororo"
   ]
  },
  {
   "cell_type": "code",
   "execution_count": 7,
   "metadata": {
    "ExecuteTime": {
     "end_time": "2021-03-24T10:24:36.721870Z",
     "start_time": "2021-03-24T10:24:36.691849Z"
    }
   },
   "outputs": [],
   "source": [
    "data_arc32=data_arc3.groupby('시도발견').sum()\n",
    "data_arc32['위도']=lat\n",
    "data_arc32['경도']=lot\n",
    "#세종특별자치시 : [36.50319, 127.24628]\n",
    "data_arc32['세종위도']=36.50319\n",
    "data_arc32['세종경도']=127.24628\n",
    "data_arc32=data_arc32.reset_index()"
   ]
  },
  {
   "cell_type": "code",
   "execution_count": 8,
   "metadata": {
    "ExecuteTime": {
     "end_time": "2021-03-24T10:39:01.701676Z",
     "start_time": "2021-03-24T10:39:01.682726Z"
    }
   },
   "outputs": [
    {
     "data": {
      "text/html": [
       "<iframe src=\"about:blank\" frameborder=\"0\" srcdoc=\"&lt;!DOCTYPE html&gt;\n",
       "&lt;html&gt;\n",
       "  &lt;head&gt;\n",
       "    &lt;meta http-equiv=&quot;content-type&quot; content=&quot;text/html; charset=UTF-8&quot; /&gt;\n",
       "    &lt;title&gt;pydeck&lt;/title&gt;\n",
       "        &lt;script src=&quot;https://api.tiles.mapbox.com/mapbox-gl-js/v1.13.0/mapbox-gl.js&quot;&gt;&lt;/script&gt;\n",
       "        &lt;link rel=&quot;stylesheet&quot; href=&quot;https://maxcdn.bootstrapcdn.com/bootstrap/3.2.0/css/bootstrap-theme.min.css&quot; /&gt;\n",
       "    &lt;link rel=&quot;stylesheet&quot; href=&quot;https://maxcdn.bootstrapcdn.com/font-awesome/4.6.3/css/font-awesome.min.css&quot; /&gt;\n",
       "    &lt;script src=&#x27;https://cdn.jsdelivr.net/npm/@deck.gl/jupyter-widget@~8.4.*/dist/index.js&#x27;&gt;&lt;/script&gt;\n",
       "    &lt;style&gt;\n",
       "    body {\n",
       "  margin: 0;\n",
       "  padding: 0;\n",
       "  overflow: hidden;\n",
       "}\n",
       "\n",
       "#deck-map-container {\n",
       "  width: 100%;\n",
       "  height: 100%;\n",
       "  background-color: black;\n",
       "}\n",
       "\n",
       "#map {\n",
       "  pointer-events: none;\n",
       "  height: 100%;\n",
       "  width: 100%;\n",
       "  position: absolute;\n",
       "  z-index: 1;\n",
       "}\n",
       "\n",
       "#deckgl-overlay {\n",
       "  z-index: 2;\n",
       "  background: none;\n",
       "}\n",
       "\n",
       "#deck-map-wrapper {\n",
       "  width: 100%;\n",
       "  height: 100%;\n",
       "}\n",
       "\n",
       "#deck-container {\n",
       "  width: 100vw;\n",
       "  height: 100vh;\n",
       "}\n",
       "    &lt;/style&gt;\n",
       "  &lt;/head&gt;\n",
       "  &lt;body&gt;\n",
       "    &lt;div id=&quot;deck-container&quot;&gt;\n",
       "    &lt;/div&gt;\n",
       "  &lt;/body&gt;\n",
       "  &lt;script&gt;\n",
       "    const jsonInput = {&quot;initialViewState&quot;: {&quot;bearing&quot;: -27.36, &quot;latitude&quot;: 36.50319, &quot;longitude&quot;: 127.24628, &quot;maxZoom&quot;: 15, &quot;minZoom&quot;: 5, &quot;pitch&quot;: 40.5, &quot;zoom&quot;: 6}, &quot;layers&quot;: [{&quot;@@type&quot;: &quot;ArcLayer&quot;, &quot;autoHighlight&quot;: true, &quot;data&quot;: [{&quot;\\uacbd\\ub3c4&quot;: 127.73846, &quot;\\uc138\\uc885\\uacbd\\ub3c4&quot;: 127.24628, &quot;\\uc138\\uc885\\uc704\\ub3c4&quot;: 36.50319, &quot;\\uc2dc\\ub3c4\\ubc1c\\uacac&quot;: &quot;\\uac15\\uc6d0\\ub3c4&quot;, &quot;\\uc704\\ub3c4&quot;: 37.89081, &quot;\\uc804\\uc785\\uc790\\uc218&quot;: 21352}, {&quot;\\uacbd\\ub3c4&quot;: 127.00787, &quot;\\uc138\\uc885\\uacbd\\ub3c4&quot;: 127.24628, &quot;\\uc138\\uc885\\uc704\\ub3c4&quot;: 36.50319, &quot;\\uc2dc\\ub3c4\\ubc1c\\uacac&quot;: &quot;\\uacbd\\uae30\\ub0a8\\ubd80&quot;, &quot;\\uc704\\ub3c4&quot;: 37.27703, &quot;\\uc804\\uc785\\uc790\\uc218&quot;: 66169}, {&quot;\\uacbd\\ub3c4&quot;: 127.068296, &quot;\\uc138\\uc885\\uacbd\\ub3c4&quot;: 127.24628, &quot;\\uc138\\uc885\\uc704\\ub3c4&quot;: 36.50319, &quot;\\uc2dc\\ub3c4\\ubc1c\\uacac&quot;: &quot;\\uacbd\\uae30\\ubd81\\ubd80&quot;, &quot;\\uc704\\ub3c4&quot;: 37.73458, &quot;\\uc804\\uc785\\uc790\\uc218&quot;: 24361}, {&quot;\\uacbd\\ub3c4&quot;: 128.69239, &quot;\\uc138\\uc885\\uacbd\\ub3c4&quot;: 127.24628, &quot;\\uc138\\uc885\\uc704\\ub3c4&quot;: 36.50319, &quot;\\uc2dc\\ub3c4\\ubc1c\\uacac&quot;: &quot;\\uacbd\\uc0c1\\ub0a8\\ub3c4&quot;, &quot;\\uc704\\ub3c4&quot;: 35.2383, &quot;\\uc804\\uc785\\uc790\\uc218&quot;: 25790}, {&quot;\\uacbd\\ub3c4&quot;: 128.7794, &quot;\\uc138\\uc885\\uacbd\\ub3c4&quot;: 127.24628, &quot;\\uc138\\uc885\\uc704\\ub3c4&quot;: 36.50319, &quot;\\uc2dc\\ub3c4\\ubc1c\\uacac&quot;: &quot;\\uacbd\\uc0c1\\ubd81\\ub3c4&quot;, &quot;\\uc704\\ub3c4&quot;: 36.57854, &quot;\\uc804\\uc785\\uc790\\uc218&quot;: 33467}, {&quot;\\uacbd\\ub3c4&quot;: 126.84307, &quot;\\uc138\\uc885\\uacbd\\ub3c4&quot;: 127.24628, &quot;\\uc138\\uc885\\uc704\\ub3c4&quot;: 36.50319, &quot;\\uc2dc\\ub3c4\\ubc1c\\uacac&quot;: &quot;\\uad11\\uc8fc\\uad11\\uc5ed\\uc2dc&quot;, &quot;\\uc704\\ub3c4&quot;: 35.15441, &quot;\\uc804\\uc785\\uc790\\uc218&quot;: 9260}, {&quot;\\uacbd\\ub3c4&quot;: 128.56243, &quot;\\uc138\\uc885\\uacbd\\ub3c4&quot;: 127.24628, &quot;\\uc138\\uc885\\uc704\\ub3c4&quot;: 36.50319, &quot;\\uc2dc\\ub3c4\\ubc1c\\uacac&quot;: &quot;\\ub300\\uad6c\\uad11\\uc5ed\\uc2dc&quot;, &quot;\\uc704\\ub3c4&quot;: 35.83421, &quot;\\uc804\\uc785\\uc790\\uc218&quot;: 9334}, {&quot;\\uacbd\\ub3c4&quot;: 127.39788, &quot;\\uc138\\uc885\\uacbd\\ub3c4&quot;: 127.24628, &quot;\\uc138\\uc885\\uc704\\ub3c4&quot;: 36.50319, &quot;\\uc2dc\\ub3c4\\ubc1c\\uacac&quot;: &quot;\\ub300\\uc804\\uad11\\uc5ed\\uc2dc&quot;, &quot;\\uc704\\ub3c4&quot;: 36.34026, &quot;\\uc804\\uc785\\uc790\\uc218&quot;: 254368}, {&quot;\\uacbd\\ub3c4&quot;: 129.04583, &quot;\\uc138\\uc885\\uacbd\\ub3c4&quot;: 127.24628, &quot;\\uc138\\uc885\\uc704\\ub3c4&quot;: 36.50319, &quot;\\uc2dc\\ub3c4\\ubc1c\\uacac&quot;: &quot;\\ubd80\\uc0b0\\uad11\\uc5ed\\uc2dc&quot;, &quot;\\uc704\\ub3c4&quot;: 35.16788, &quot;\\uc804\\uc785\\uc790\\uc218&quot;: 6779}, {&quot;\\uacbd\\ub3c4&quot;: 126.99139, &quot;\\uc138\\uc885\\uacbd\\ub3c4&quot;: 127.24628, &quot;\\uc138\\uc885\\uc704\\ub3c4&quot;: 36.50319, &quot;\\uc2dc\\ub3c4\\ubc1c\\uacac&quot;: &quot;\\uc11c\\uc6b8\\ud2b9\\ubcc4\\uc2dc&quot;, &quot;\\uc704\\ub3c4&quot;: 37.55626, &quot;\\uc804\\uc785\\uc790\\uc218&quot;: 38982}, {&quot;\\uacbd\\ub3c4&quot;: 129.24908, &quot;\\uc138\\uc885\\uacbd\\ub3c4&quot;: 127.24628, &quot;\\uc138\\uc885\\uc704\\ub3c4&quot;: 36.50319, &quot;\\uc2dc\\ub3c4\\ubc1c\\uacac&quot;: &quot;\\uc6b8\\uc0b0\\uad11\\uc5ed\\uc2dc&quot;, &quot;\\uc704\\ub3c4&quot;: 35.54421, &quot;\\uc804\\uc785\\uc790\\uc218&quot;: 5592}, {&quot;\\uacbd\\ub3c4&quot;: 126.70575, &quot;\\uc138\\uc885\\uacbd\\ub3c4&quot;: 127.24628, &quot;\\uc138\\uc885\\uc704\\ub3c4&quot;: 36.50319, &quot;\\uc2dc\\ub3c4\\ubc1c\\uacac&quot;: &quot;\\uc778\\ucc9c\\uad11\\uc5ed\\uc2dc&quot;, &quot;\\uc704\\ub3c4&quot;: 37.45603, &quot;\\uc804\\uc785\\uc790\\uc218&quot;: 7628}, {&quot;\\uacbd\\ub3c4&quot;: 126.47796, &quot;\\uc138\\uc885\\uacbd\\ub3c4&quot;: 127.24628, &quot;\\uc138\\uc885\\uc704\\ub3c4&quot;: 36.50319, &quot;\\uc2dc\\ub3c4\\ubc1c\\uacac&quot;: &quot;\\uc804\\ub77c\\ub0a8\\ub3c4&quot;, &quot;\\uc704\\ub3c4&quot;: 34.99069, &quot;\\uc804\\uc785\\uc790\\uc218&quot;: 23388}, {&quot;\\uacbd\\ub3c4&quot;: 127.11366, &quot;\\uc138\\uc885\\uacbd\\ub3c4&quot;: 127.24628, &quot;\\uc138\\uc885\\uc704\\ub3c4&quot;: 36.50319, &quot;\\uc2dc\\ub3c4\\ubc1c\\uacac&quot;: &quot;\\uc804\\ub77c\\ubd81\\ub3c4&quot;, &quot;\\uc704\\ub3c4&quot;: 35.82812, &quot;\\uc804\\uc785\\uc790\\uc218&quot;: 29952}, {&quot;\\uacbd\\ub3c4&quot;: 126.53174, &quot;\\uc138\\uc885\\uacbd\\ub3c4&quot;: 127.24628, &quot;\\uc138\\uc885\\uc704\\ub3c4&quot;: 36.50319, &quot;\\uc2dc\\ub3c4\\ubc1c\\uacac&quot;: &quot;\\uc81c\\uc8fc\\ud2b9\\ubcc4\\uc790\\uce58\\ub3c4&quot;, &quot;\\uc704\\ub3c4&quot;: 33.49802, &quot;\\uc804\\uc785\\uc790\\uc218&quot;: 8319}, {&quot;\\uacbd\\ub3c4&quot;: 126.78211, &quot;\\uc138\\uc885\\uacbd\\ub3c4&quot;: 127.24628, &quot;\\uc138\\uc885\\uc704\\ub3c4&quot;: 36.50319, &quot;\\uc2dc\\ub3c4\\ubc1c\\uacac&quot;: &quot;\\ucda9\\uccad\\ub0a8\\ub3c4&quot;, &quot;\\uc704\\ub3c4&quot;: 36.66962, &quot;\\uc804\\uc785\\uc790\\uc218&quot;: 220788}, {&quot;\\uacbd\\ub3c4&quot;: 127.50361, &quot;\\uc138\\uc885\\uacbd\\ub3c4&quot;: 127.24628, &quot;\\uc138\\uc885\\uc704\\ub3c4&quot;: 36.50319, &quot;\\uc2dc\\ub3c4\\ubc1c\\uacac&quot;: &quot;\\ucda9\\uccad\\ubd81\\ub3c4&quot;, &quot;\\uc704\\ub3c4&quot;: 36.62539, &quot;\\uc804\\uc785\\uc790\\uc218&quot;: 231053}], &quot;getSourceColor&quot;: [142, 133, 255], &quot;getSourcePosition&quot;: &quot;@@=[\\uacbd\\ub3c4, \\uc704\\ub3c4]&quot;, &quot;getTargetColor&quot;: [12, 0, 164], &quot;getTargetPosition&quot;: &quot;@@=[\\uc138\\uc885\\uacbd\\ub3c4, \\uc138\\uc885\\uc704\\ub3c4]&quot;, &quot;getWidth&quot;: &quot;@@=\\uc804\\uc785\\uc790\\uc218*0.0001&quot;, &quot;id&quot;: &quot;873fe32a-8578-47a3-9353-d12eb6e4d651&quot;, &quot;pickable&quot;: true}], &quot;mapProvider&quot;: &quot;mapbox&quot;, &quot;mapStyle&quot;: &quot;mapbox://styles/mapbox/streets-v9&quot;, &quot;views&quot;: [{&quot;@@type&quot;: &quot;MapView&quot;, &quot;controller&quot;: true}]};\n",
       "    const tooltip = true;\n",
       "    const customLibraries = null;\n",
       "\n",
       "    const deckInstance = createDeck({\n",
       "                  container: document.getElementById(&#x27;deck-container&#x27;),\n",
       "      jsonInput,\n",
       "      tooltip,\n",
       "      customLibraries\n",
       "    });\n",
       "\n",
       "  &lt;/script&gt;\n",
       "&lt;/html&gt;\" width=\"100%\" height=500></iframe>"
      ],
      "text/plain": [
       "<IPython.core.display.HTML object>"
      ]
     },
     "execution_count": 8,
     "metadata": {},
     "output_type": "execute_result"
    }
   ],
   "source": [
    "layer = pdk.Layer(\n",
    "    'ArcLayer',\n",
    "    data_arc32,\n",
    "    get_source_position=['경도', '위도'],\n",
    "    get_target_position=['세종경도', '세종위도'],\n",
    "    get_width='전입자수*0.0001',\n",
    "    get_source_color=[142, 133, 255],\n",
    "    get_target_color=[12, 0, 164],\n",
    "    pickable=True,\n",
    "    auto_highlight=True\n",
    ")\n",
    "view_state = pdk.ViewState(\n",
    "    latitude=36.50319,\n",
    "    longitude=127.24628,\n",
    "    zoom=6,\n",
    "    min_zoom=5,\n",
    "    max_zoom=15,\n",
    "    pitch=40.5,\n",
    "    bearing=-27.36)\n",
    "r = pdk.Deck(layers=[layer], initial_view_state=view_state,map_provider=\"mapbox\",map_style=pdk.map_styles.ROAD)#.SATELLITE)\n",
    "r.to_html('hexagon-example.html')"
   ]
  },
  {
   "cell_type": "markdown",
   "metadata": {
    "ExecuteTime": {
     "end_time": "2021-03-24T09:39:29.787319Z",
     "start_time": "2021-03-24T09:39:29.771369Z"
    }
   },
   "source": [
    "#### 각 시도별 세종시 전출자 수 및 경로 그래프"
   ]
  },
  {
   "cell_type": "code",
   "execution_count": 10,
   "metadata": {
    "ExecuteTime": {
     "end_time": "2021-03-24T10:45:40.360266Z",
     "start_time": "2021-03-24T10:45:40.232054Z"
    }
   },
   "outputs": [],
   "source": [
    "data2_arc=pd.read_csv('./Data/21.세종시_전출자수.csv')\n",
    "data2_arc2=data2_arc.drop(['년월','세종전출행정동','전입읍면동'],axis=1)\n",
    "data2_arc2['시찾기']=data2_arc2['전입시군구'].apply(sido)\n",
    "idx_not=data2_arc2[data2_arc2['시찾기']=='세종특별자치시'].index\n",
    "data2_arc3=data2_arc2.drop(idx_not)\n",
    "data2_arc3=data2_arc3.reset_index(drop=True)"
   ]
  },
  {
   "cell_type": "code",
   "execution_count": 11,
   "metadata": {
    "ExecuteTime": {
     "end_time": "2021-03-24T10:45:41.671145Z",
     "start_time": "2021-03-24T10:45:40.489868Z"
    }
   },
   "outputs": [],
   "source": [
    "rororo2=[]\n",
    "for i in range(len(data2_arc3)):\n",
    "    if data2_arc3['시찾기'][i] in geongkibuk:\n",
    "        rororo2.append('경기북부')\n",
    "    elif data2_arc3['시찾기'][i] in geongkinam:\n",
    "        rororo2.append('경기남부')\n",
    "    else:\n",
    "        rororo2.append(data2_arc3['전입시'][i])\n",
    "data2_arc3['시도발견']=rororo2\n",
    "data2_arc32=data2_arc3.groupby('시도발견').sum()\n",
    "data2_arc32['위도']=lat\n",
    "data2_arc32['경도']=lot\n",
    "data2_arc32['세종위도']=36.50319\n",
    "data2_arc32['세종경도']=127.24628"
   ]
  },
  {
   "cell_type": "code",
   "execution_count": 12,
   "metadata": {
    "ExecuteTime": {
     "end_time": "2021-03-24T10:45:41.845606Z",
     "start_time": "2021-03-24T10:45:41.831644Z"
    }
   },
   "outputs": [
    {
     "data": {
      "text/html": [
       "<iframe src=\"about:blank\" frameborder=\"0\" srcdoc=\"&lt;!DOCTYPE html&gt;\n",
       "&lt;html&gt;\n",
       "  &lt;head&gt;\n",
       "    &lt;meta http-equiv=&quot;content-type&quot; content=&quot;text/html; charset=UTF-8&quot; /&gt;\n",
       "    &lt;title&gt;pydeck&lt;/title&gt;\n",
       "        &lt;script src=&quot;https://api.tiles.mapbox.com/mapbox-gl-js/v1.13.0/mapbox-gl.js&quot;&gt;&lt;/script&gt;\n",
       "        &lt;link rel=&quot;stylesheet&quot; href=&quot;https://maxcdn.bootstrapcdn.com/bootstrap/3.2.0/css/bootstrap-theme.min.css&quot; /&gt;\n",
       "    &lt;link rel=&quot;stylesheet&quot; href=&quot;https://maxcdn.bootstrapcdn.com/font-awesome/4.6.3/css/font-awesome.min.css&quot; /&gt;\n",
       "    &lt;script src=&#x27;https://cdn.jsdelivr.net/npm/@deck.gl/jupyter-widget@~8.4.*/dist/index.js&#x27;&gt;&lt;/script&gt;\n",
       "    &lt;style&gt;\n",
       "    body {\n",
       "  margin: 0;\n",
       "  padding: 0;\n",
       "  overflow: hidden;\n",
       "}\n",
       "\n",
       "#deck-map-container {\n",
       "  width: 100%;\n",
       "  height: 100%;\n",
       "  background-color: black;\n",
       "}\n",
       "\n",
       "#map {\n",
       "  pointer-events: none;\n",
       "  height: 100%;\n",
       "  width: 100%;\n",
       "  position: absolute;\n",
       "  z-index: 1;\n",
       "}\n",
       "\n",
       "#deckgl-overlay {\n",
       "  z-index: 2;\n",
       "  background: none;\n",
       "}\n",
       "\n",
       "#deck-map-wrapper {\n",
       "  width: 100%;\n",
       "  height: 100%;\n",
       "}\n",
       "\n",
       "#deck-container {\n",
       "  width: 100vw;\n",
       "  height: 100vh;\n",
       "}\n",
       "    &lt;/style&gt;\n",
       "  &lt;/head&gt;\n",
       "  &lt;body&gt;\n",
       "    &lt;div id=&quot;deck-container&quot;&gt;\n",
       "    &lt;/div&gt;\n",
       "  &lt;/body&gt;\n",
       "  &lt;script&gt;\n",
       "    const jsonInput = {&quot;initialViewState&quot;: {&quot;bearing&quot;: -27.36, &quot;latitude&quot;: 36.50319, &quot;longitude&quot;: 127.24628, &quot;maxZoom&quot;: 15, &quot;minZoom&quot;: 5, &quot;pitch&quot;: 40.5, &quot;zoom&quot;: 6}, &quot;layers&quot;: [{&quot;@@type&quot;: &quot;ArcLayer&quot;, &quot;autoHighlight&quot;: true, &quot;data&quot;: [{&quot;\\uacbd\\ub3c4&quot;: 127.73846, &quot;\\uc138\\uc885\\uacbd\\ub3c4&quot;: 127.24628, &quot;\\uc138\\uc885\\uc704\\ub3c4&quot;: 36.50319, &quot;\\uc704\\ub3c4&quot;: 37.89081, &quot;\\uc804\\ucd9c\\uc790\\uc218&quot;: 14659}, {&quot;\\uacbd\\ub3c4&quot;: 127.00787, &quot;\\uc138\\uc885\\uacbd\\ub3c4&quot;: 127.24628, &quot;\\uc138\\uc885\\uc704\\ub3c4&quot;: 36.50319, &quot;\\uc704\\ub3c4&quot;: 37.27703, &quot;\\uc804\\ucd9c\\uc790\\uc218&quot;: 53939}, {&quot;\\uacbd\\ub3c4&quot;: 127.068296, &quot;\\uc138\\uc885\\uacbd\\ub3c4&quot;: 127.24628, &quot;\\uc138\\uc885\\uc704\\ub3c4&quot;: 36.50319, &quot;\\uc704\\ub3c4&quot;: 37.73458, &quot;\\uc804\\ucd9c\\uc790\\uc218&quot;: 16852}, {&quot;\\uacbd\\ub3c4&quot;: 128.69239, &quot;\\uc138\\uc885\\uacbd\\ub3c4&quot;: 127.24628, &quot;\\uc138\\uc885\\uc704\\ub3c4&quot;: 36.50319, &quot;\\uc704\\ub3c4&quot;: 35.2383, &quot;\\uc804\\ucd9c\\uc790\\uc218&quot;: 14194}, {&quot;\\uacbd\\ub3c4&quot;: 128.7794, &quot;\\uc138\\uc885\\uacbd\\ub3c4&quot;: 127.24628, &quot;\\uc138\\uc885\\uc704\\ub3c4&quot;: 36.50319, &quot;\\uc704\\ub3c4&quot;: 36.57854, &quot;\\uc804\\ucd9c\\uc790\\uc218&quot;: 19052}, {&quot;\\uacbd\\ub3c4&quot;: 126.84307, &quot;\\uc138\\uc885\\uacbd\\ub3c4&quot;: 127.24628, &quot;\\uc138\\uc885\\uc704\\ub3c4&quot;: 36.50319, &quot;\\uc704\\ub3c4&quot;: 35.15441, &quot;\\uc804\\ucd9c\\uc790\\uc218&quot;: 4378}, {&quot;\\uacbd\\ub3c4&quot;: 128.56243, &quot;\\uc138\\uc885\\uacbd\\ub3c4&quot;: 127.24628, &quot;\\uc138\\uc885\\uc704\\ub3c4&quot;: 36.50319, &quot;\\uc704\\ub3c4&quot;: 35.83421, &quot;\\uc804\\ucd9c\\uc790\\uc218&quot;: 4456}, {&quot;\\uacbd\\ub3c4&quot;: 127.39788, &quot;\\uc138\\uc885\\uacbd\\ub3c4&quot;: 127.24628, &quot;\\uc138\\uc885\\uc704\\ub3c4&quot;: 36.50319, &quot;\\uc704\\ub3c4&quot;: 36.34026, &quot;\\uc804\\ucd9c\\uc790\\uc218&quot;: 85146}, {&quot;\\uacbd\\ub3c4&quot;: 129.04583, &quot;\\uc138\\uc885\\uacbd\\ub3c4&quot;: 127.24628, &quot;\\uc138\\uc885\\uc704\\ub3c4&quot;: 36.50319, &quot;\\uc704\\ub3c4&quot;: 35.16788, &quot;\\uc804\\ucd9c\\uc790\\uc218&quot;: 4605}, {&quot;\\uacbd\\ub3c4&quot;: 126.99139, &quot;\\uc138\\uc885\\uacbd\\ub3c4&quot;: 127.24628, &quot;\\uc138\\uc885\\uc704\\ub3c4&quot;: 36.50319, &quot;\\uc704\\ub3c4&quot;: 37.55626, &quot;\\uc804\\ucd9c\\uc790\\uc218&quot;: 29884}, {&quot;\\uacbd\\ub3c4&quot;: 129.24908, &quot;\\uc138\\uc885\\uacbd\\ub3c4&quot;: 127.24628, &quot;\\uc138\\uc885\\uc704\\ub3c4&quot;: 36.50319, &quot;\\uc704\\ub3c4&quot;: 35.54421, &quot;\\uc804\\ucd9c\\uc790\\uc218&quot;: 2945}, {&quot;\\uacbd\\ub3c4&quot;: 126.70575, &quot;\\uc138\\uc885\\uacbd\\ub3c4&quot;: 127.24628, &quot;\\uc138\\uc885\\uc704\\ub3c4&quot;: 36.50319, &quot;\\uc704\\ub3c4&quot;: 37.45603, &quot;\\uc804\\ucd9c\\uc790\\uc218&quot;: 5075}, {&quot;\\uacbd\\ub3c4&quot;: 126.47796, &quot;\\uc138\\uc885\\uacbd\\ub3c4&quot;: 127.24628, &quot;\\uc138\\uc885\\uc704\\ub3c4&quot;: 36.50319, &quot;\\uc704\\ub3c4&quot;: 34.99069, &quot;\\uc804\\ucd9c\\uc790\\uc218&quot;: 14126}, {&quot;\\uacbd\\ub3c4&quot;: 127.11366, &quot;\\uc138\\uc885\\uacbd\\ub3c4&quot;: 127.24628, &quot;\\uc138\\uc885\\uc704\\ub3c4&quot;: 36.50319, &quot;\\uc704\\ub3c4&quot;: 35.82812, &quot;\\uc804\\ucd9c\\uc790\\uc218&quot;: 17120}, {&quot;\\uacbd\\ub3c4&quot;: 126.53174, &quot;\\uc138\\uc885\\uacbd\\ub3c4&quot;: 127.24628, &quot;\\uc138\\uc885\\uc704\\ub3c4&quot;: 36.50319, &quot;\\uc704\\ub3c4&quot;: 33.49802, &quot;\\uc804\\ucd9c\\uc790\\uc218&quot;: 8900}, {&quot;\\uacbd\\ub3c4&quot;: 126.78211, &quot;\\uc138\\uc885\\uacbd\\ub3c4&quot;: 127.24628, &quot;\\uc138\\uc885\\uc704\\ub3c4&quot;: 36.50319, &quot;\\uc704\\ub3c4&quot;: 36.66962, &quot;\\uc804\\ucd9c\\uc790\\uc218&quot;: 149211}, {&quot;\\uacbd\\ub3c4&quot;: 127.50361, &quot;\\uc138\\uc885\\uacbd\\ub3c4&quot;: 127.24628, &quot;\\uc138\\uc885\\uc704\\ub3c4&quot;: 36.50319, &quot;\\uc704\\ub3c4&quot;: 36.62539, &quot;\\uc804\\ucd9c\\uc790\\uc218&quot;: 151514}], &quot;getSourceColor&quot;: [255, 109, 109], &quot;getSourcePosition&quot;: &quot;@@=[\\uacbd\\ub3c4, \\uc704\\ub3c4]&quot;, &quot;getTargetColor&quot;: [142, 0, 0], &quot;getTargetPosition&quot;: &quot;@@=[\\uc138\\uc885\\uacbd\\ub3c4, \\uc138\\uc885\\uc704\\ub3c4]&quot;, &quot;getWidth&quot;: &quot;@@=\\uc804\\ucd9c\\uc790\\uc218*0.0001&quot;, &quot;id&quot;: &quot;a2054bfc-987b-4bb5-a992-2837a15431f0&quot;, &quot;pickable&quot;: true}], &quot;mapProvider&quot;: &quot;mapbox&quot;, &quot;mapStyle&quot;: &quot;mapbox://styles/mapbox/streets-v9&quot;, &quot;views&quot;: [{&quot;@@type&quot;: &quot;MapView&quot;, &quot;controller&quot;: true}]};\n",
       "    const tooltip = true;\n",
       "    const customLibraries = null;\n",
       "\n",
       "    const deckInstance = createDeck({\n",
       "                  container: document.getElementById(&#x27;deck-container&#x27;),\n",
       "      jsonInput,\n",
       "      tooltip,\n",
       "      customLibraries\n",
       "    });\n",
       "\n",
       "  &lt;/script&gt;\n",
       "&lt;/html&gt;\" width=\"100%\" height=500></iframe>"
      ],
      "text/plain": [
       "<IPython.core.display.HTML object>"
      ]
     },
     "execution_count": 12,
     "metadata": {},
     "output_type": "execute_result"
    }
   ],
   "source": [
    "layer = pdk.Layer(\n",
    "    'ArcLayer',\n",
    "    data2_arc32,\n",
    "    get_source_position=['경도', '위도'],\n",
    "    get_target_position=['세종경도', '세종위도'],\n",
    "    get_width='전출자수*0.0001',#'1 + 0000000.1* 전입자수',\n",
    "    get_source_color=[255, 109, 109],\n",
    "    get_target_color=[142, 0, 0],\n",
    "    pickable=True,\n",
    "    auto_highlight=True\n",
    ")\n",
    "view_state = pdk.ViewState(\n",
    "    latitude=36.50319,\n",
    "    longitude=127.24628,\n",
    "    zoom=6,\n",
    "    min_zoom=5,\n",
    "    max_zoom=15,\n",
    "    pitch=40.5,\n",
    "    bearing=-27.36)\n",
    "\n",
    "# Combined all of it and render a viewport\n",
    "r = pdk.Deck(layers=[layer], initial_view_state=view_state,map_provider=\"mapbox\",map_style=pdk.map_styles.ROAD)\n",
    "r.to_html('hexagon-example.html')"
   ]
  },
  {
   "cell_type": "code",
   "execution_count": null,
   "metadata": {},
   "outputs": [],
   "source": []
  }
 ],
 "metadata": {
  "kernelspec": {
   "display_name": "Python 3",
   "language": "python",
   "name": "python3"
  },
  "language_info": {
   "codemirror_mode": {
    "name": "ipython",
    "version": 3
   },
   "file_extension": ".py",
   "mimetype": "text/x-python",
   "name": "python",
   "nbconvert_exporter": "python",
   "pygments_lexer": "ipython3",
   "version": "3.8.5"
  },
  "toc": {
   "base_numbering": 1,
   "nav_menu": {},
   "number_sections": true,
   "sideBar": true,
   "skip_h1_title": false,
   "title_cell": "Table of Contents",
   "title_sidebar": "Contents",
   "toc_cell": false,
   "toc_position": {},
   "toc_section_display": true,
   "toc_window_display": false
  },
  "varInspector": {
   "cols": {
    "lenName": 16,
    "lenType": 16,
    "lenVar": 40
   },
   "kernels_config": {
    "python": {
     "delete_cmd_postfix": "",
     "delete_cmd_prefix": "del ",
     "library": "var_list.py",
     "varRefreshCmd": "print(var_dic_list())"
    },
    "r": {
     "delete_cmd_postfix": ") ",
     "delete_cmd_prefix": "rm(",
     "library": "var_list.r",
     "varRefreshCmd": "cat(var_dic_list()) "
    }
   },
   "types_to_exclude": [
    "module",
    "function",
    "builtin_function_or_method",
    "instance",
    "_Feature"
   ],
   "window_display": false
  }
 },
 "nbformat": 4,
 "nbformat_minor": 4
}
