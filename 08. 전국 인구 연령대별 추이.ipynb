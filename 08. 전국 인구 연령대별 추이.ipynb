{
 "cells": [
  {
   "cell_type": "code",
   "execution_count": 1,
   "metadata": {
    "ExecuteTime": {
     "end_time": "2021-03-20T07:20:11.351827Z",
     "start_time": "2021-03-20T07:20:11.018387Z"
    }
   },
   "outputs": [],
   "source": [
    "import pandas as pd\n",
    "import numpy as np\n",
    "import re\n",
    "\n",
    "import matplotlib.pyplot as plt\n",
    "from datetime import datetime\n",
    "import seaborn as sns\n",
    "from matplotlib import pyplot\n",
    "import platform\n",
    "from matplotlib import font_manager, rc\n",
    "\n",
    "import warnings\n",
    "warnings.filterwarnings('ignore')\n",
    "\n",
    "plt.rcParams['axes.unicode_minus'] = False\n",
    "if platform.system() == 'Darwin':\n",
    "    rc('font', family = 'AppleGothic')\n",
    "elif platform.system() == 'Windows':\n",
    "    path ='C:/Windows/Fonts/malgun.ttf'\n",
    "    font_name = font_manager.FontProperties(fname=path).get_name()\n",
    "    rc('font', family=font_name)\n",
    "else:\n",
    "    print(\"Can't find your system.\")"
   ]
  },
  {
   "cell_type": "markdown",
   "metadata": {},
   "source": [
    "### 데이터 전처리\n",
    "* 통계청에서 외부데이터를 사용하여 전국 연령별 인구비율을 확인하기 위해 데이터 전처리 진행"
   ]
  },
  {
   "cell_type": "code",
   "execution_count": 2,
   "metadata": {
    "ExecuteTime": {
     "end_time": "2021-03-20T07:38:47.448448Z",
     "start_time": "2021-03-20T07:38:47.418553Z"
    }
   },
   "outputs": [],
   "source": [
    "data=pd.read_csv('./Data/연령_및_성별_인구__읍면동_2015___시군구_2016__20210320160447.csv',encoding = \"cp949\",header=1)\n",
    "idx_drop=data[data['연령별']=='85세이상'].index\n",
    "data_set=data.drop(idx_drop).reset_index()\n",
    "data_set=data_set.drop('index',axis=1)"
   ]
  },
  {
   "cell_type": "code",
   "execution_count": 3,
   "metadata": {
    "ExecuteTime": {
     "end_time": "2021-03-20T07:50:17.802788Z",
     "start_time": "2021-03-20T07:50:17.786857Z"
    }
   },
   "outputs": [
    {
     "data": {
      "text/html": [
       "<div>\n",
       "<style scoped>\n",
       "    .dataframe tbody tr th:only-of-type {\n",
       "        vertical-align: middle;\n",
       "    }\n",
       "\n",
       "    .dataframe tbody tr th {\n",
       "        vertical-align: top;\n",
       "    }\n",
       "\n",
       "    .dataframe thead th {\n",
       "        text-align: right;\n",
       "    }\n",
       "</style>\n",
       "<table border=\"1\" class=\"dataframe\">\n",
       "  <thead>\n",
       "    <tr style=\"text-align: right;\">\n",
       "      <th></th>\n",
       "      <th>연령별</th>\n",
       "      <th>인구 수(명)</th>\n",
       "      <th>인구비율(%)</th>\n",
       "    </tr>\n",
       "  </thead>\n",
       "  <tbody>\n",
       "    <tr>\n",
       "      <th>0</th>\n",
       "      <td>0~9세</td>\n",
       "      <td>4158165</td>\n",
       "      <td>8.030570</td>\n",
       "    </tr>\n",
       "    <tr>\n",
       "      <th>1</th>\n",
       "      <td>10~19세</td>\n",
       "      <td>4871356</td>\n",
       "      <td>9.407939</td>\n",
       "    </tr>\n",
       "    <tr>\n",
       "      <th>2</th>\n",
       "      <td>20~29세</td>\n",
       "      <td>7026161</td>\n",
       "      <td>13.569465</td>\n",
       "    </tr>\n",
       "    <tr>\n",
       "      <th>3</th>\n",
       "      <td>30~39세</td>\n",
       "      <td>7304423</td>\n",
       "      <td>14.106866</td>\n",
       "    </tr>\n",
       "    <tr>\n",
       "      <th>4</th>\n",
       "      <td>40~49세</td>\n",
       "      <td>8304629</td>\n",
       "      <td>16.038542</td>\n",
       "    </tr>\n",
       "    <tr>\n",
       "      <th>5</th>\n",
       "      <td>50~59세</td>\n",
       "      <td>8608070</td>\n",
       "      <td>16.624570</td>\n",
       "    </tr>\n",
       "    <tr>\n",
       "      <th>6</th>\n",
       "      <td>60~69세</td>\n",
       "      <td>6181640</td>\n",
       "      <td>11.938461</td>\n",
       "    </tr>\n",
       "    <tr>\n",
       "      <th>7</th>\n",
       "      <td>70~79세</td>\n",
       "      <td>3521769</td>\n",
       "      <td>6.801513</td>\n",
       "    </tr>\n",
       "    <tr>\n",
       "      <th>8</th>\n",
       "      <td>80~89세</td>\n",
       "      <td>1586207</td>\n",
       "      <td>3.063406</td>\n",
       "    </tr>\n",
       "    <tr>\n",
       "      <th>9</th>\n",
       "      <td>90~99세</td>\n",
       "      <td>211909</td>\n",
       "      <td>0.409255</td>\n",
       "    </tr>\n",
       "    <tr>\n",
       "      <th>10</th>\n",
       "      <td>100세이상</td>\n",
       "      <td>4874</td>\n",
       "      <td>0.009413</td>\n",
       "    </tr>\n",
       "  </tbody>\n",
       "</table>\n",
       "</div>"
      ],
      "text/plain": [
       "       연령별  인구 수(명)    인구비율(%)\n",
       "0     0~9세  4158165   8.030570\n",
       "1   10~19세  4871356   9.407939\n",
       "2   20~29세  7026161  13.569465\n",
       "3   30~39세  7304423  14.106866\n",
       "4   40~49세  8304629  16.038542\n",
       "5   50~59세  8608070  16.624570\n",
       "6   60~69세  6181640  11.938461\n",
       "7   70~79세  3521769   6.801513\n",
       "8   80~89세  1586207   3.063406\n",
       "9   90~99세   211909   0.409255\n",
       "10  100세이상     4874   0.009413"
      ]
     },
     "execution_count": 3,
     "metadata": {},
     "output_type": "execute_result"
    }
   ],
   "source": [
    "sector=[]\n",
    "pop=[]\n",
    "for i in range(1,23,2):\n",
    "    if i==1: \n",
    "        sector.append(data_set['연령별'][i][0:2]+data_set['연령별'][i+1][2:4])\n",
    "        pop.append(int(data_set['총인구(명)'][i]+data_set['총인구(명)'][i+1]))\n",
    "    elif i==21:\n",
    "        sector.append(data_set['연령별'][i])\n",
    "        pop.append(int(data_set['총인구(명)'][i]))\n",
    "    else:\n",
    "        sector.append(data_set['연령별'][i][0:2]+data_set['연령별'][i+1][2:6])\n",
    "        pop.append(int(data_set['총인구(명)'][i]+data_set['총인구(명)'][i+1]))\n",
    "total_pop=pd.DataFrame({'연령별':sector,'인구 수(명)':pop})\n",
    "total_pop['인구비율(%)']=(total_pop['인구 수(명)']/data_set['총인구(명)'][0])*100\n",
    "total_pop"
   ]
  },
  {
   "cell_type": "markdown",
   "metadata": {},
   "source": [
    "### 데이터 시각화\n",
    "* 전처리한 데이터를 통해 인구비율을 확인, 비교하기 위해 파이차트로 시각화"
   ]
  },
  {
   "cell_type": "code",
   "execution_count": 5,
   "metadata": {},
   "outputs": [
    {
     "data": {
      "image/png": "[encoded data removed]",
      "text/plain": [
       "<Figure size 504x504 with 1 Axes>"
      ]
     },
     "metadata": {},
     "output_type": "display_data"
    }
   ],
   "source": [
    "labels = total_pop['연령별'] ## 라벨\n",
    "frequency = total_pop['인구 수(명)']#df1['세종특별자치시'].astype(int) #df1['pct'] ## 빈도\n",
    "colors = sns.color_palette('Blues_r',len(total_pop['연령별']))\n",
    "fig = plt.figure(figsize=(7,7))\n",
    "fig.set_facecolor('white')\n",
    "ax = fig.add_subplot()\n",
    "pie = ax.pie(frequency, \n",
    "             startangle=90, \n",
    "             counterclock=False, \n",
    "             colors=colors)\n",
    "total = sum(frequency) ## 빈도수 합\n",
    "threshold = 5 ## 상한선 비율\n",
    "sum_pct = 0 ## 퍼센티지\n",
    "bbox_props = dict(boxstyle='square',fc='w',ec='w',alpha=0) ## annotation 박스 스타일\n",
    "## annotation 설정\n",
    "config = dict(arrowprops=dict(arrowstyle='-'),bbox=bbox_props,va='center')\n",
    "for i,l in enumerate(labels):\n",
    "    ang1, ang2 = ax.patches[i].theta1, ax.patches[i].theta2 ## 파이의 시작 각도와 끝 각도\n",
    "    center, r = ax.patches[i].center, ax.patches[i].r ## 원의 중심 좌표와 반지름길이\n",
    "    if i < len(labels) - 1:\n",
    "        sum_pct += (frequency.iloc[i]/total*100).round(2)\n",
    "        text = f'{(frequency.iloc[i]/total*100).round(2)}%'\n",
    "    else: ## 마지막 파이 조각은 퍼센티지의 합이 100이 되도록 비율을 조절\n",
    "        text = f'{100-sum_pct:.2f}%'\n",
    "    ## 비율 상한선보다 작은 것들은 Annotation으로 만든다.\n",
    "    if frequency.iloc[i]/total*100 < threshold and i < len(labels) - 3:\n",
    "        ang = (ang1+ang2)/2 ## 중심각\n",
    "        x = np.cos(np.deg2rad(ang)) ## Annotation의 끝점에 해당하는 x좌표\n",
    "        y = np.sin(np.deg2rad(ang)) ## Annotation의 끝점에 해당하는 y좌표\n",
    "        ## x좌표가 양수이면 즉 y축을 중심으로 오른쪽에 있으면 왼쪽 정렬\n",
    "        ## x좌표가 음수이면 즉 y축을 중심으로 왼쪽에 있으면 오른쪽 정렬\n",
    "        horizontalalignment = {-1: \"right\", 1: \"left\"}[int(np.sign(x))]\n",
    "        connectionstyle = \"angle,angleA=0,angleB={}\".format(ang) ## 시작점과 끝점 연결 스타일\n",
    "        config[\"arrowprops\"].update({\"connectionstyle\": connectionstyle}) ## \n",
    "        ax.annotate(text, xy=(x, y), xytext=(1.5*x, 1.2*y),\n",
    "                    horizontalalignment=horizontalalignment, **config,fontsize=15)\n",
    "    elif frequency.iloc[i]/total*100 < threshold and i == len(labels) - 3:#마지막\n",
    "        ang = (ang1+ang2)/2 ## 중심각\n",
    "        x = np.cos(np.deg2rad(ang)) ## Annotation의 끝점에 해당하는 x좌표\n",
    "        y = np.sin(np.deg2rad(ang)) ## Annotation의 끝점에 해당하는 y좌표\n",
    "        ## x좌표가 양수이면 즉 y축을 중심으로 오른쪽에 있으면 왼쪽 정렬\n",
    "        ## x좌표가 음수이면 즉 y축을 중심으로 왼쪽에 있으면 오른쪽 정렬\n",
    "        horizontalalignment = {-1: \"right\", 1: \"left\"}[int(np.sign(x))]\n",
    "        connectionstyle = \"angle,angleA=0,angleB={}\".format(ang) ## 시작점과 끝점 연결 스타일\n",
    "        config[\"arrowprops\"].update({\"connectionstyle\": connectionstyle}) ## \n",
    "        ax.annotate(text, xy=(x, y), xytext=(1.5*x-0.3, 1.2*y-0.1),\n",
    "                    horizontalalignment=horizontalalignment, **config,fontsize=15)\n",
    "    elif frequency.iloc[i]/total*100 < threshold and i == len(labels) - 2:#마지막\n",
    "        ang = (ang1+ang2)/2 ## 중심각\n",
    "        x = np.cos(np.deg2rad(ang)) ## Annotation의 끝점에 해당하는 x좌표\n",
    "        y = np.sin(np.deg2rad(ang)) ## Annotation의 끝점에 해당하는 y좌표\n",
    "        ## x좌표가 양수이면 즉 y축을 중심으로 오른쪽에 있으면 왼쪽 정렬\n",
    "        ## x좌표가 음수이면 즉 y축을 중심으로 왼쪽에 있으면 오른쪽 정렬\n",
    "        horizontalalignment = {-1: \"right\", 1: \"left\"}[int(np.sign(x))]\n",
    "        connectionstyle = \"angle,angleA=0,angleB={}\".format(ang) ## 시작점과 끝점 연결 스타일\n",
    "        config[\"arrowprops\"].update({\"connectionstyle\": connectionstyle}) ## \n",
    "        ax.annotate(text, xy=(x, y), xytext=(1.5*x-0.1, 1.2*y),\n",
    "                    horizontalalignment=horizontalalignment, **config,fontsize=15) \n",
    "    elif frequency.iloc[i]/total*100 < threshold and i == len(labels) - 1:#마지막\n",
    "        ang = (ang1+ang2)/2 ## 중심각\n",
    "        x = np.cos(np.deg2rad(ang)) ## Annotation의 끝점에 해당하는 x좌표\n",
    "        y = np.sin(np.deg2rad(ang)) ## Annotation의 끝점에 해당하는 y좌표\n",
    "        ## x좌표가 양수이면 즉 y축을 중심으로 오른쪽에 있으면 왼쪽 정렬\n",
    "        ## x좌표가 음수이면 즉 y축을 중심으로 왼쪽에 있으면 오른쪽 정렬\n",
    "        horizontalalignment = {-1: \"right\", 1: \"left\"}[int(np.sign(x))]\n",
    "        connectionstyle = \"angle,angleA=0,angleB={}\".format(ang) ## 시작점과 끝점 연결 스타일\n",
    "        config[\"arrowprops\"].update({\"connectionstyle\": connectionstyle}) ## \n",
    "        ax.annotate(text, xy=(x, y), xytext=(1.5*x+0.5, 1.2*y-0.1),\n",
    "                    horizontalalignment=horizontalalignment, **config,fontsize=15) \n",
    "    else:\n",
    "        x = (r/2)*np.cos(np.pi/180*((ang1+ang2)/2)) + center[0] ## 텍스트 x좌표\n",
    "        y = (r/2)*np.sin(np.pi/180*((ang1+ang2)/2)) + center[1] ## 텍스트 y좌표\n",
    "        ax.text(x,y,text,ha='center',va='center',fontsize=15)\n",
    "plt.legend(labels,bbox_to_anchor=(1, 0.9))\n",
    "plt.title('2019년 전국 인구 연령대별 추이',fontsize=20)\n",
    "plt.show()"
   ]
  },
  {
   "cell_type": "code",
   "execution_count": null,
   "metadata": {},
   "outputs": [],
   "source": []
  }
 ],
 "metadata": {
  "kernelspec": {
   "display_name": "Python 3",
   "language": "python",
   "name": "python3"
  },
  "language_info": {
   "codemirror_mode": {
    "name": "ipython",
    "version": 3
   },
   "file_extension": ".py",
   "mimetype": "text/x-python",
   "name": "python",
   "nbconvert_exporter": "python",
   "pygments_lexer": "ipython3",
   "version": "3.8.5"
  },
  "toc": {
   "base_numbering": 1,
   "nav_menu": {},
   "number_sections": true,
   "sideBar": true,
   "skip_h1_title": false,
   "title_cell": "Table of Contents",
   "title_sidebar": "Contents",
   "toc_cell": false,
   "toc_position": {},
   "toc_section_display": true,
   "toc_window_display": false
  },
  "varInspector": {
   "cols": {
    "lenName": 16,
    "lenType": 16,
    "lenVar": 40
   },
   "kernels_config": {
    "python": {
     "delete_cmd_postfix": "",
     "delete_cmd_prefix": "del ",
     "library": "var_list.py",
     "varRefreshCmd": "print(var_dic_list())"
    },
    "r": {
     "delete_cmd_postfix": ") ",
     "delete_cmd_prefix": "rm(",
     "library": "var_list.r",
     "varRefreshCmd": "cat(var_dic_list()) "
    }
   },
   "types_to_exclude": [
    "module",
    "function",
    "builtin_function_or_method",
    "instance",
    "_Feature"
   ],
   "window_display": false
  }
 },
 "nbformat": 4,
 "nbformat_minor": 4
}
